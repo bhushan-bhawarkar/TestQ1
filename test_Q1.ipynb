{
  "nbformat": 4,
  "nbformat_minor": 0,
  "metadata": {
    "colab": {
      "provenance": []
    },
    "kernelspec": {
      "name": "python3",
      "display_name": "Python 3"
    },
    "language_info": {
      "name": "python"
    }
  },
  "cells": [
    {
      "cell_type": "code",
      "execution_count": 1,
      "metadata": {
        "colab": {
          "base_uri": "https://localhost:8080/"
        },
        "id": "wS6BJMOdWkly",
        "outputId": "4ae36ed4-493c-4aa1-cc36-d6056abdae6c"
      },
      "outputs": [
        {
          "output_type": "stream",
          "name": "stdout",
          "text": [
            "[1, 3, 12, 0, 0]\n"
          ]
        }
      ],
      "source": [
        "def movingzeroes(nums):\n",
        "    left = 0\n",
        "    right = 0\n",
        "    while right < len(nums):\n",
        "        if nums[right] != 0:\n",
        "            nums[left], nums[right] = nums[right], nums[left]\n",
        "            left += 1\n",
        "        right += 1\n",
        "\n",
        "    nums[left:] = [0] * (len(nums) - left)\n",
        "\n",
        "nums =  [0,1,0,3,12]\n",
        "movingzeroes(nums)\n",
        "print(nums)\n"
      ]
    },
    {
      "cell_type": "code",
      "source": [],
      "metadata": {
        "id": "pEXeOsRyXADx"
      },
      "execution_count": null,
      "outputs": []
    }
  ]
}